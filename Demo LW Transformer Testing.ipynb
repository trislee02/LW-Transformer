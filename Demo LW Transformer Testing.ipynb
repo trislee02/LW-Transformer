{
  "cells": [
    {
      "cell_type": "markdown",
      "metadata": {
        "id": "F2yo1G__YAUk"
      },
      "source": [
        "# LW-Transformer Notebook"
      ]
    },
    {
      "cell_type": "code",
      "execution_count": null,
      "metadata": {
        "id": "Urq6qlo4gZDi"
      },
      "outputs": [],
      "source": [
        "!nvidia-smi"
      ]
    },
    {
      "cell_type": "markdown",
      "metadata": {
        "id": "iTD2TdKx8bct"
      },
      "source": [
        "## Clone Repo\n",
        "Create a `PAT.txt` file in `MyDrive` which contains your Github Personal Access Token before running the following cell."
      ]
    },
    {
      "cell_type": "code",
      "execution_count": null,
      "metadata": {
        "id": "sMDvRDE36ZmN"
      },
      "outputs": [],
      "source": [
        "# Get PAT for Github\n",
        "from google.colab import drive\n",
        "drive.mount('/content/drive')\n",
        "\n",
        "with open('/content/drive/MyDrive/PAT.txt', 'r') as f:\n",
        "    token = f.read()\n",
        "\n",
        "PAT = ''\n",
        "if token != '':\n",
        "  PAT = token + '@'"
      ]
    },
    {
      "cell_type": "code",
      "execution_count": null,
      "metadata": {
        "id": "Lrq9uGDDBFkk"
      },
      "outputs": [],
      "source": [
        "repo_url = \"https://\" + PAT + \"github.com/trislee02/LW-Transformer.git\"\n",
        "!git clone $repo_url\n"
      ]
    },
    {
      "cell_type": "markdown",
      "metadata": {
        "id": "UDJJNpJ_8jOh"
      },
      "source": [
        "## Git commands"
      ]
    },
    {
      "cell_type": "code",
      "execution_count": null,
      "metadata": {
        "id": "By5VWDm_6KGH"
      },
      "outputs": [],
      "source": [
        "# !git config --global user.email \"trislee002@gmail.com\"\n",
        "# !git config --global user.name \"trislee02\""
      ]
    },
    {
      "cell_type": "code",
      "execution_count": null,
      "metadata": {
        "id": "Ueqev_e-5v1Q"
      },
      "outputs": [],
      "source": [
        "%cd /content/LW-Transformer/\n",
        "!git status"
      ]
    },
    {
      "cell_type": "code",
      "execution_count": null,
      "metadata": {
        "id": "vYM5VQs-fOqw"
      },
      "outputs": [],
      "source": [
        "# !git add .\n",
        "# !git commit -m \"add timm into requirements\"\n",
        "# !git stash\n",
        "# !git pull"
      ]
    },
    {
      "cell_type": "code",
      "execution_count": null,
      "metadata": {
        "id": "nmu_0RW8jSnv"
      },
      "outputs": [],
      "source": [
        "!git checkout main\n",
        "!git pull"
      ]
    },
    {
      "cell_type": "markdown",
      "metadata": {
        "id": "wc4NeP-q8oKN"
      },
      "source": [
        "## Install libraries"
      ]
    },
    {
      "cell_type": "code",
      "execution_count": null,
      "metadata": {
        "id": "ZT4ZULMABXr4"
      },
      "outputs": [],
      "source": [
        "%cd /content/LW-Transformer/\n",
        "!pip install -r requirements.txt"
      ]
    },
    {
      "cell_type": "markdown",
      "metadata": {
        "id": "RUwqVxdmHvbx"
      },
      "source": [
        "## Download Market-1501 dataset"
      ]
    },
    {
      "cell_type": "code",
      "execution_count": null,
      "metadata": {
        "id": "apHrPTd7Dsm_"
      },
      "outputs": [],
      "source": [
        "%mkdir -p /content/LW-Transformer/data\n",
        "%cd /content/LW-Transformer/data\n",
        "!gdown 0B8-rUzbwVRk0c054eEozWG9COHM\n",
        "!unzip -q Market-1501-v15.09.15.zip\n",
        "!mv Market-1501-v15.09.15 market1501"
      ]
    },
    {
      "cell_type": "markdown",
      "metadata": {
        "id": "2jXquaNWDPnm"
      },
      "source": [
        "## Download MSMT17 dataset"
      ]
    },
    {
      "cell_type": "code",
      "execution_count": null,
      "metadata": {
        "id": "5QaDsho3Daii"
      },
      "outputs": [],
      "source": [
        "%mkdir -p /content/LW-Transformer/data\n",
        "%cd /content/LW-Transformer/data\n",
        "!gdown xxxxxxxxxxxxxxxxxxxxxx\n",
        "!unzip -q MSMT17_V2.zip\n",
        "!mv MSMT17_V2 msmt17"
      ]
    },
    {
      "cell_type": "markdown",
      "metadata": {
        "id": "NYhITYIxX-df"
      },
      "source": [
        "## Run training"
      ]
    },
    {
      "cell_type": "code",
      "execution_count": null,
      "metadata": {
        "id": "qIwd8hSvYN-t"
      },
      "outputs": [],
      "source": [
        "# %cd /content/LW-Transformer/\n",
        "# !python train.py -c ./configs/market.yml"
      ]
    },
    {
      "cell_type": "markdown",
      "metadata": {
        "id": "mM7KFmd7h46x"
      },
      "source": [
        "## Run testing"
      ]
    },
    {
      "cell_type": "markdown",
      "metadata": {
        "id": "qJd0JD53jVg1"
      },
      "source": [
        "**Download model**"
      ]
    },
    {
      "cell_type": "code",
      "execution_count": null,
      "metadata": {
        "id": "W6Y8WQcRjU4D"
      },
      "outputs": [],
      "source": [
        "%mkdir -p /content/models\n",
        "%cd /content/models\n",
        "!gdown 1-d6c8PnRGi1RcwEmrLmmR75cexjN40zq"
      ]
    },
    {
      "cell_type": "code",
      "execution_count": null,
      "metadata": {
        "id": "FA84mDnjj4wA"
      },
      "outputs": [],
      "source": [
        "%cd /content/models\n",
        "%ls"
      ]
    },
    {
      "cell_type": "code",
      "execution_count": null,
      "metadata": {
        "id": "1U1UOY8PW_k5"
      },
      "outputs": [],
      "source": [
        "MODEL_PATH = '/content/models/msmt_vit16_224_model_epoch_19_acc_0.9258.pth'\n",
        "CONFIG_PATH = './configs/msmt17_vit_patch16_224.yml'"
      ]
    },
    {
      "cell_type": "markdown",
      "source": [
        "**Test with Global Features only**"
      ],
      "metadata": {
        "id": "3oZI6LwMnTnb"
      }
    },
    {
      "cell_type": "code",
      "execution_count": null,
      "metadata": {
        "id": "-rpqbSrAh9HF"
      },
      "outputs": [],
      "source": [
        "%cd /content/LW-Transformer/\n",
        "!python test.py -f g -c {CONFIG_PATH} -m {MODEL_PATH}"
      ]
    },
    {
      "cell_type": "markdown",
      "source": [
        "**Test with Local Features only**"
      ],
      "metadata": {
        "id": "gd0dhWXwneMT"
      }
    },
    {
      "cell_type": "code",
      "execution_count": null,
      "metadata": {
        "colab": {
          "background_save": true
        },
        "id": "zEq3XIGme2SM"
      },
      "outputs": [],
      "source": [
        "%cd /content/LW-Transformer/\n",
        "!python test.py -f l -c {CONFIG_PATH} -m {MODEL_PATH}"
      ]
    },
    {
      "cell_type": "markdown",
      "source": [
        "**Test with combining Global Features & Local Features**"
      ],
      "metadata": {
        "id": "fsFRr1Utnhy3"
      }
    },
    {
      "cell_type": "code",
      "execution_count": null,
      "metadata": {
        "id": "I5YXaHiye3u_"
      },
      "outputs": [],
      "source": [
        "%cd /content/LW-Transformer/\n",
        "!python test.py -f gl -c {CONFIG_PATH} -m {MODEL_PATH}"
      ]
    }
  ],
  "metadata": {
    "accelerator": "GPU",
    "colab": {
      "provenance": []
    },
    "kernelspec": {
      "display_name": "Python 3",
      "name": "python3"
    },
    "language_info": {
      "name": "python"
    }
  },
  "nbformat": 4,
  "nbformat_minor": 0
}