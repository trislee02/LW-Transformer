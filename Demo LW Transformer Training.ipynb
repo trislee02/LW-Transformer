{
  "cells": [
    {
      "cell_type": "markdown",
      "metadata": {
        "id": "F2yo1G__YAUk"
      },
      "source": [
        "# LW-Transformer Training Notebook"
      ]
    },
    {
      "cell_type": "code",
      "execution_count": null,
      "metadata": {
        "colab": {
          "base_uri": "https://localhost:8080/"
        },
        "id": "Urq6qlo4gZDi",
        "outputId": "d57ca624-cdb1-4d88-a34b-da06cad07aec"
      },
      "outputs": [
        {
          "output_type": "stream",
          "name": "stdout",
          "text": [
            "Fri Jun 30 14:50:08 2023       \n",
            "+-----------------------------------------------------------------------------+\n",
            "| NVIDIA-SMI 525.85.12    Driver Version: 525.85.12    CUDA Version: 12.0     |\n",
            "|-------------------------------+----------------------+----------------------+\n",
            "| GPU  Name        Persistence-M| Bus-Id        Disp.A | Volatile Uncorr. ECC |\n",
            "| Fan  Temp  Perf  Pwr:Usage/Cap|         Memory-Usage | GPU-Util  Compute M. |\n",
            "|                               |                      |               MIG M. |\n",
            "|===============================+======================+======================|\n",
            "|   0  Tesla T4            Off  | 00000000:00:04.0 Off |                    0 |\n",
            "| N/A   53C    P8    10W /  70W |      0MiB / 15360MiB |      0%      Default |\n",
            "|                               |                      |                  N/A |\n",
            "+-------------------------------+----------------------+----------------------+\n",
            "                                                                               \n",
            "+-----------------------------------------------------------------------------+\n",
            "| Processes:                                                                  |\n",
            "|  GPU   GI   CI        PID   Type   Process name                  GPU Memory |\n",
            "|        ID   ID                                                   Usage      |\n",
            "|=============================================================================|\n",
            "|  No running processes found                                                 |\n",
            "+-----------------------------------------------------------------------------+\n"
          ]
        }
      ],
      "source": [
        "!nvidia-smi"
      ]
    },
    {
      "cell_type": "code",
      "source": [
        "from google.colab import drive\n",
        "drive.mount('/content/drive')"
      ],
      "metadata": {
        "colab": {
          "base_uri": "https://localhost:8080/"
        },
        "id": "v_bdobIuj8fE",
        "outputId": "adefde4c-8b89-4d27-d497-72c8805c003f"
      },
      "execution_count": null,
      "outputs": [
        {
          "output_type": "stream",
          "name": "stdout",
          "text": [
            "Mounted at /content/drive\n"
          ]
        }
      ]
    },
    {
      "cell_type": "markdown",
      "metadata": {
        "id": "iTD2TdKx8bct"
      },
      "source": [
        "## Clone Repo"
      ]
    },
    {
      "cell_type": "code",
      "execution_count": null,
      "metadata": {
        "colab": {
          "base_uri": "https://localhost:8080/"
        },
        "id": "Lrq9uGDDBFkk",
        "outputId": "1a360b5f-e131-4e01-e790-8a0f41eb4e21"
      },
      "outputs": [
        {
          "output_type": "stream",
          "name": "stdout",
          "text": [
            "Cloning into 'LW-Transformer'...\n",
            "remote: Enumerating objects: 404, done.\u001b[K\n",
            "remote: Counting objects: 100% (51/51), done.\u001b[K\n",
            "remote: Compressing objects: 100% (39/39), done.\u001b[K\n",
            "remote: Total 404 (delta 19), reused 39 (delta 12), pack-reused 353\u001b[K\n",
            "Receiving objects: 100% (404/404), 52.13 KiB | 13.03 MiB/s, done.\n",
            "Resolving deltas: 100% (192/192), done.\n"
          ]
        }
      ],
      "source": [
        "!git clone https://github.com/trislee02/LW-Transformer.git"
      ]
    },
    {
      "cell_type": "markdown",
      "metadata": {
        "id": "wc4NeP-q8oKN"
      },
      "source": [
        "## Install libraries"
      ]
    },
    {
      "cell_type": "code",
      "source": [
        "%cd /content/LW-Transformer/\n",
        "!pip install -q -r requirements.txt"
      ],
      "metadata": {
        "id": "O_c8CxQWJwM8",
        "outputId": "c4e66f68-3908-496d-9af9-37137809677e",
        "colab": {
          "base_uri": "https://localhost:8080/"
        }
      },
      "execution_count": null,
      "outputs": [
        {
          "output_type": "stream",
          "name": "stdout",
          "text": [
            "/content/LW-Transformer\n",
            "\u001b[2K     \u001b[90m━━━━━━━━━━━━━━━━━━━━━━━━━━━━━━━━━━━━━━━━\u001b[0m \u001b[32m2.2/2.2 MB\u001b[0m \u001b[31m47.3 MB/s\u001b[0m eta \u001b[36m0:00:00\u001b[0m\n",
            "\u001b[2K     \u001b[90m━━━━━━━━━━━━━━━━━━━━━━━━━━━━━━━━━━━━━━━━\u001b[0m \u001b[32m85.5/85.5 MB\u001b[0m \u001b[31m11.2 MB/s\u001b[0m eta \u001b[36m0:00:00\u001b[0m\n",
            "\u001b[2K     \u001b[90m━━━━━━━━━━━━━━━━━━━━━━━━━━━━━━━━━━━━━━\u001b[0m \u001b[32m236.8/236.8 kB\u001b[0m \u001b[31m21.6 MB/s\u001b[0m eta \u001b[36m0:00:00\u001b[0m\n",
            "\u001b[2K     \u001b[90m━━━━━━━━━━━━━━━━━━━━━━━━━━━━━━━━━━━━━━━━\u001b[0m \u001b[32m1.3/1.3 MB\u001b[0m \u001b[31m61.4 MB/s\u001b[0m eta \u001b[36m0:00:00\u001b[0m\n",
            "\u001b[?25h"
          ]
        }
      ]
    },
    {
      "cell_type": "markdown",
      "metadata": {
        "id": "RUwqVxdmHvbx"
      },
      "source": [
        "## Download Market-1501 dataset (from Google Drive)"
      ]
    },
    {
      "cell_type": "code",
      "execution_count": null,
      "metadata": {
        "id": "apHrPTd7Dsm_"
      },
      "outputs": [],
      "source": [
        "%mkdir -p /content/LW-Transformer/data\n",
        "%cd /content/LW-Transformer/data\n",
        "!gdown 0B8-rUzbwVRk0c054eEozWG9COHM\n",
        "!unzip -q Market-1501-v15.09.15.zip\n",
        "!mv Market-1501-v15.09.15 market1501"
      ]
    },
    {
      "cell_type": "markdown",
      "source": [
        "## Download MSMT17 dataset (from Google Drive)"
      ],
      "metadata": {
        "id": "hRvRicnC2pRe"
      }
    },
    {
      "cell_type": "code",
      "source": [],
      "metadata": {
        "id": "SvyPwXhw3TIR"
      },
      "execution_count": null,
      "outputs": []
    },
    {
      "cell_type": "markdown",
      "source": [
        "## Download checkpoint"
      ],
      "metadata": {
        "id": "A1kSmYZYXxqD"
      }
    },
    {
      "cell_type": "code",
      "source": [
        "# %mkdir -p /content/LW-Transformer/checkpoint\n",
        "# %cd /content/LW-Transformer/checkpoint\n",
        "# !gdown 1-JSLLLk9tiuQ9Bh-9VvUVvFX7HtWvsRN"
      ],
      "metadata": {
        "id": "MJzJoN-tXm1r"
      },
      "execution_count": null,
      "outputs": []
    },
    {
      "cell_type": "markdown",
      "metadata": {
        "id": "NYhITYIxX-df"
      },
      "source": [
        "## Run training"
      ]
    },
    {
      "cell_type": "code",
      "execution_count": null,
      "metadata": {
        "id": "qIwd8hSvYN-t"
      },
      "outputs": [],
      "source": [
        "%cd /content/LW-Transformer/\n",
        "# Not update lr every epoch, just update when unfreezing a new block\n",
        "!python train.py -c ./configs/msmt17_vit_patch16_224.yml MODEL.DROPOUT 0.5\\\n",
        "                    SOLVER.MAX_EPOCHS 32 \\\n",
        "                    SOLVER.OPTIMIZER_NAME \"ADAM\" \\\n",
        "                    SOLVER.WEIGHT_DECAY 0.0005 \\\n",
        "                    SOLVER.BASE_LR 0.0001 \\\n",
        "                    SOLVER.LR_DECAY_BLOCK 0.8 \\\n",
        "                    SOLVER.STEP_LR_SIZE 1 \\\n",
        "                    SOLVER.GAMMA 1.0 \\\n",
        "                    SOLVER.IMS_PER_BATCH 32 \\"
      ]
    }
  ],
  "metadata": {
    "colab": {
      "provenance": [],
      "gpuType": "T4"
    },
    "kernelspec": {
      "display_name": "Python 3",
      "name": "python3"
    },
    "language_info": {
      "name": "python"
    },
    "accelerator": "GPU"
  },
  "nbformat": 4,
  "nbformat_minor": 0
}